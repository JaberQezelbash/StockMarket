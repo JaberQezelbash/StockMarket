{
 "cells": [
  {
   "cell_type": "markdown",
   "id": "304aa00c-3d88-4304-a563-6daaa1f704c4",
   "metadata": {},
   "source": [
    "## Stock Market"
   ]
  },
  {
   "cell_type": "code",
   "execution_count": 2,
   "id": "5db074fc-b2c2-4f6e-8725-1a62c29111b2",
   "metadata": {},
   "outputs": [
    {
     "name": "stdout",
     "output_type": "stream",
     "text": [
      "     volume  count stock   open   high    low  close\n",
      "0   8407500      1   AAL  15.07  15.12  14.63  14.75\n",
      "1   8882000      2   AAL  14.89  15.01  14.26  14.46\n",
      "2   8126000      3   AAL  14.45  14.51  14.10  14.27\n",
      "3  10259500      4   AAL  14.30  14.94  14.25  14.66\n",
      "4  31879900      5   AAL  14.94  14.96  13.16  13.99\n"
     ]
    }
   ],
   "source": [
    "import pandas as pd\n",
    "\n",
    "# Load the dataset\n",
    "file_path = \"C:\\\\Users\\\\Jaber\\\\OneDrive - University of Florida\\\\Educational\\\\GitHub\\\\StockMarket\\\\Data\\\\all_stocks_5yr.csv\"\n",
    "data = pd.read_csv(file_path)\n",
    "\n",
    "# Create a new column that counts occurrences of each stock name\n",
    "data['count'] = data.groupby('stock').cumcount() + 1\n",
    "\n",
    "# Reorder columns to make 'count' the first column\n",
    "cols = data.columns.tolist()\n",
    "cols = cols[-1:] + cols[:-1]\n",
    "data = data[cols]\n",
    "\n",
    "# Define the new file path\n",
    "new_file_path = \"C:\\\\Users\\\\Jaber\\\\OneDrive - University of Florida\\\\Educational\\\\GitHub\\\\StockMarket\\\\Data\\\\newdata.csv\"\n",
    "\n",
    "# Save the modified dataset to a new CSV file\n",
    "data.to_csv(new_file_path, index=False)\n",
    "\n",
    "# Optionally display the first few rows of the updated DataFrame to verify\n",
    "print(data.head())\n"
   ]
  },
  {
   "cell_type": "code",
   "execution_count": 3,
   "id": "81b2a2e7-5795-4975-ad0c-907ae8c287b5",
   "metadata": {},
   "outputs": [
    {
     "name": "stdout",
     "output_type": "stream",
     "text": [
      "    stock  count\n",
      "0       A   1259\n",
      "1     AAL   1259\n",
      "2     AAP   1259\n",
      "3    AAPL   1259\n",
      "4    ABBV   1259\n",
      "..    ...    ...\n",
      "500   XYL   1259\n",
      "501   YUM   1259\n",
      "502   ZBH   1259\n",
      "503  ZION   1259\n",
      "504   ZTS   1259\n",
      "\n",
      "[505 rows x 2 columns]\n"
     ]
    }
   ],
   "source": [
    "import pandas as pd\n",
    "\n",
    "# Load the dataset\n",
    "file_path = \"C:\\\\Users\\\\Jaber\\\\OneDrive - University of Florida\\\\Educational\\\\GitHub\\\\StockMarket\\\\Data\\\\all_stocks_5yr.csv\"\n",
    "data = pd.read_csv(file_path)\n",
    "\n",
    "# Create a new column that counts occurrences of each stock name\n",
    "data['count'] = data.groupby('stock').cumcount() + 1\n",
    "\n",
    "# Calculate the last occurrence of each stock name\n",
    "last_occurrences = data.groupby('stock')['count'].max().reset_index()\n",
    "\n",
    "# Define the path for the new file to save the last occurrences\n",
    "last_occurrences_file_path = \"C:\\\\Users\\\\Jaber\\\\OneDrive - University of Florida\\\\Educational\\\\GitHub\\\\StockMarket\\\\Data\\\\last_occurrences.csv\"\n",
    "\n",
    "# Save the last occurrences to a new CSV file\n",
    "last_occurrences.to_csv(last_occurrences_file_path, index=False)\n",
    "\n",
    "# Optionally display the last occurrences DataFrame to verify\n",
    "print(last_occurrences)\n"
   ]
  },
  {
   "cell_type": "code",
   "execution_count": null,
   "id": "f1eb3e36-78fa-4044-a6ca-34f01d3ef52c",
   "metadata": {},
   "outputs": [],
   "source": []
  }
 ],
 "metadata": {
  "kernelspec": {
   "display_name": "Python 3 (ipykernel)",
   "language": "python",
   "name": "python3"
  },
  "language_info": {
   "codemirror_mode": {
    "name": "ipython",
    "version": 3
   },
   "file_extension": ".py",
   "mimetype": "text/x-python",
   "name": "python",
   "nbconvert_exporter": "python",
   "pygments_lexer": "ipython3",
   "version": "3.11.7"
  }
 },
 "nbformat": 4,
 "nbformat_minor": 5
}
